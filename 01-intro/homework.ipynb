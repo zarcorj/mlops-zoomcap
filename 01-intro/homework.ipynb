{
 "cells": [
  {
   "cell_type": "code",
   "execution_count": 1,
   "id": "58931644-e107-4f58-ab36-a5a752085ed8",
   "metadata": {},
   "outputs": [],
   "source": [
    "import pandas as pd\n",
    "\n",
    "from sklearn.feature_extraction import DictVectorizer\n",
    "from sklearn.linear_model import LinearRegression\n",
    "from sklearn.linear_model import Lasso\n",
    "from sklearn.linear_model import Ridge\n",
    "\n",
    "from sklearn.metrics import root_mean_squared_error\n",
    "import seaborn as sns\n",
    "import matplotlib.pyplot as plt\n",
    "import pickle\n",
    "import os"
   ]
  },
  {
   "cell_type": "code",
   "execution_count": 2,
   "id": "48af3f8e-4eea-4f23-a0d0-80bd904c6bfb",
   "metadata": {},
   "outputs": [],
   "source": [
    "jan_pd = pd.read_parquet('../data/yellow_tripdata_2023-01.parquet')\n",
    "feb_pd = pd.read_parquet('../data/yellow_tripdata_2023-02.parquet')"
   ]
  },
  {
   "cell_type": "code",
   "execution_count": 3,
   "id": "0f70898d",
   "metadata": {},
   "outputs": [
    {
     "name": "stdout",
     "output_type": "stream",
     "text": [
      "January data has 19 columns\n",
      "February data has 19 columns\n",
      "(3066766, 19)\n",
      "(2913955, 19)\n"
     ]
    }
   ],
   "source": [
    "# Read the data for January. How many columns are there?\n",
    "print(f\"January data has {jan_pd.shape[1]} columns\")\n",
    "# Read the data for February. How many columns are there?\n",
    "print(f\"February data has {feb_pd.shape[1]} columns\")\n",
    "print (jan_pd.shape)\n",
    "print (feb_pd.shape)"
   ]
  },
  {
   "cell_type": "code",
   "execution_count": 4,
   "id": "f135bcbf",
   "metadata": {},
   "outputs": [
    {
     "name": "stdout",
     "output_type": "stream",
     "text": [
      "(5980721, 20)\n",
      "VendorID                          int64\n",
      "tpep_pickup_datetime     datetime64[us]\n",
      "tpep_dropoff_datetime    datetime64[us]\n",
      "passenger_count                 float64\n",
      "trip_distance                   float64\n",
      "RatecodeID                      float64\n",
      "store_and_fwd_flag               object\n",
      "PULocationID                      int64\n",
      "DOLocationID                      int64\n",
      "payment_type                      int64\n",
      "fare_amount                     float64\n",
      "extra                           float64\n",
      "mta_tax                         float64\n",
      "tip_amount                      float64\n",
      "tolls_amount                    float64\n",
      "improvement_surcharge           float64\n",
      "total_amount                    float64\n",
      "congestion_surcharge            float64\n",
      "airport_fee                     float64\n",
      "Airport_fee                     float64\n",
      "dtype: object\n"
     ]
    }
   ],
   "source": [
    "rides_pd = pd.concat([jan_pd, feb_pd], ignore_index=True)\n",
    "# Print shape and data columns types\n",
    "print(rides_pd.shape)\n",
    "print(rides_pd.dtypes)"
   ]
  },
  {
   "cell_type": "code",
   "execution_count": 5,
   "id": "989b5ad6",
   "metadata": {},
   "outputs": [
    {
     "name": "stdout",
     "output_type": "stream",
     "text": [
      "count    3.066766e+06\n",
      "mean     1.566900e+01\n",
      "std      4.259435e+01\n",
      "min     -2.920000e+01\n",
      "25%      7.116667e+00\n",
      "50%      1.151667e+01\n",
      "75%      1.830000e+01\n",
      "max      1.002918e+04\n",
      "Name: duration, dtype: float64\n"
     ]
    }
   ],
   "source": [
    "# Create new column 'duration' in minutes, using the difference between 'tpep_dropoff_datetime' and 'tpep_pickup_datetime'\n",
    "jan_pd['duration'] = (jan_pd['tpep_dropoff_datetime'] - jan_pd['tpep_pickup_datetime']).dt.total_seconds() / 60\n",
    "\n",
    "# print stats of the duration column\n",
    "print(jan_pd.duration.describe())"
   ]
  },
  {
   "cell_type": "code",
   "execution_count": 6,
   "id": "45c18571",
   "metadata": {},
   "outputs": [
    {
     "name": "stdout",
     "output_type": "stream",
     "text": [
      "count    5.980721e+06\n",
      "mean     1.583802e+01\n",
      "std      4.271559e+01\n",
      "min     -4.361667e+01\n",
      "25%      7.183333e+00\n",
      "50%      1.165000e+01\n",
      "75%      1.853333e+01\n",
      "max      1.002918e+04\n",
      "Name: duration, dtype: float64\n"
     ]
    }
   ],
   "source": [
    "# Create new column 'duration' in minutes, using the difference between 'tpep_dropoff_datetime' and 'tpep_pickup_datetime'\n",
    "rides_pd['duration'] = (rides_pd['tpep_dropoff_datetime'] - rides_pd['tpep_pickup_datetime']).dt.total_seconds() / 60\n",
    "\n",
    "# print stats of the duration column\n",
    "print(rides_pd.duration.describe())"
   ]
  },
  {
   "cell_type": "code",
   "execution_count": 7,
   "id": "4d792a72",
   "metadata": {},
   "outputs": [
    {
     "name": "stdout",
     "output_type": "stream",
     "text": [
      "count    3.009173e+06\n",
      "mean     1.420486e+01\n",
      "std      9.939386e+00\n",
      "min      1.000000e+00\n",
      "25%      7.216667e+00\n",
      "50%      1.155000e+01\n",
      "75%      1.818333e+01\n",
      "max      6.000000e+01\n",
      "Name: duration, dtype: float64\n"
     ]
    }
   ],
   "source": [
    "df = pd.read_parquet('../data/yellow_tripdata_2023-01.parquet')\n",
    "\n",
    "df['duration'] = df.tpep_dropoff_datetime - df.tpep_pickup_datetime\n",
    "df.duration = df.duration.apply(lambda td: td.total_seconds() / 60)\n",
    "df = df[(df.duration >= 1) & (df.duration <= 60)]\n",
    "\n",
    "# print stats of the duration column\n",
    "print(df.duration.describe())\n"
   ]
  },
  {
   "cell_type": "code",
   "execution_count": 8,
   "id": "90cc070c",
   "metadata": {},
   "outputs": [
    {
     "name": "stdout",
     "output_type": "stream",
     "text": [
      "January data: 98.12% of records kept\n"
     ]
    }
   ],
   "source": [
    "# Let's remove them and keep only the records where the duration was between 1 and 60 minutes (inclusive).\n",
    "jan_pd2 = jan_pd[(jan_pd.duration >= 1) & (jan_pd.duration <= 60)]\n",
    "print(f\"January data: {jan_pd2.shape[0] / jan_pd.shape[0] * 100:.2f}% of records kept\")"
   ]
  },
  {
   "cell_type": "code",
   "execution_count": 9,
   "id": "c3a20b38",
   "metadata": {},
   "outputs": [
    {
     "name": "stderr",
     "output_type": "stream",
     "text": [
      "C:\\Users\\zarco\\AppData\\Local\\Temp\\ipykernel_17724\\3612793948.py:4: SettingWithCopyWarning: \n",
      "A value is trying to be set on a copy of a slice from a DataFrame.\n",
      "Try using .loc[row_indexer,col_indexer] = value instead\n",
      "\n",
      "See the caveats in the documentation: https://pandas.pydata.org/pandas-docs/stable/user_guide/indexing.html#returning-a-view-versus-a-copy\n",
      "  jan_pd2[categorical] = jan_pd2[categorical].astype(str)\n"
     ]
    }
   ],
   "source": [
    "categorical = ['PULocationID', 'DOLocationID']\n",
    "numerical = ['trip_distance']\n",
    "\n",
    "jan_pd2[categorical] = jan_pd2[categorical].astype(str)"
   ]
  },
  {
   "cell_type": "code",
   "execution_count": 10,
   "id": "6f070e3f",
   "metadata": {},
   "outputs": [
    {
     "name": "stdout",
     "output_type": "stream",
     "text": [
      "Number of records in train_dicts: 3009173\n"
     ]
    }
   ],
   "source": [
    "train_dicts = jan_pd2[categorical + numerical].to_dict(orient='records')\n",
    "print(f\"Number of records in train_dicts: {len(train_dicts)}\")"
   ]
  },
  {
   "cell_type": "code",
   "execution_count": 11,
   "id": "2bfb3300",
   "metadata": {},
   "outputs": [
    {
     "name": "stdout",
     "output_type": "stream",
     "text": [
      "{'PULocationID': '161', 'DOLocationID': '141', 'trip_distance': 0.97}\n"
     ]
    }
   ],
   "source": [
    "print(train_dicts[0])"
   ]
  },
  {
   "cell_type": "code",
   "execution_count": 12,
   "id": "93a02983",
   "metadata": {},
   "outputs": [],
   "source": [
    "dv = DictVectorizer()\n",
    "X_train = dv.fit_transform(train_dicts)\n",
    "\n",
    "target = 'duration'\n",
    "y_train = jan_pd2[target].values"
   ]
  },
  {
   "cell_type": "code",
   "execution_count": 13,
   "id": "44edb099",
   "metadata": {},
   "outputs": [
    {
     "data": {
      "text/plain": [
       "((3009173, 516), (3009173,))"
      ]
     },
     "execution_count": 13,
     "metadata": {},
     "output_type": "execute_result"
    }
   ],
   "source": [
    "X_train.shape, y_train.shape"
   ]
  },
  {
   "cell_type": "code",
   "execution_count": 14,
   "id": "f0cc123b",
   "metadata": {},
   "outputs": [
    {
     "data": {
      "text/plain": [
       "7.658396474418433"
      ]
     },
     "execution_count": 14,
     "metadata": {},
     "output_type": "execute_result"
    }
   ],
   "source": [
    "lr = LinearRegression()\n",
    "lr.fit(X_train, y_train)\n",
    "\n",
    "y_pred = lr.predict(X_train)\n",
    "\n",
    "root_mean_squared_error(y_train, y_pred)"
   ]
  },
  {
   "cell_type": "code",
   "execution_count": 15,
   "id": "08ed06bf",
   "metadata": {},
   "outputs": [
    {
     "name": "stderr",
     "output_type": "stream",
     "text": [
      "C:\\Users\\zarco\\AppData\\Local\\Temp\\ipykernel_17724\\1672306066.py:1: UserWarning: \n",
      "\n",
      "`distplot` is a deprecated function and will be removed in seaborn v0.14.0.\n",
      "\n",
      "Please adapt your code to use either `displot` (a figure-level function with\n",
      "similar flexibility) or `histplot` (an axes-level function for histograms).\n",
      "\n",
      "For a guide to updating your code to use the new functions, please see\n",
      "https://gist.github.com/mwaskom/de44147ed2974457ad6372750bbe5751\n",
      "\n",
      "  sns.distplot(y_pred, label='prediction')\n",
      "C:\\Users\\zarco\\AppData\\Local\\Temp\\ipykernel_17724\\1672306066.py:2: UserWarning: \n",
      "\n",
      "`distplot` is a deprecated function and will be removed in seaborn v0.14.0.\n",
      "\n",
      "Please adapt your code to use either `displot` (a figure-level function with\n",
      "similar flexibility) or `histplot` (an axes-level function for histograms).\n",
      "\n",
      "For a guide to updating your code to use the new functions, please see\n",
      "https://gist.github.com/mwaskom/de44147ed2974457ad6372750bbe5751\n",
      "\n",
      "  sns.distplot(y_train, label='actual')\n"
     ]
    },
    {
     "data": {
      "text/plain": [
       "<matplotlib.legend.Legend at 0x15fb70f3770>"
      ]
     },
     "execution_count": 15,
     "metadata": {},
     "output_type": "execute_result"
    },
    {
     "data": {
      "image/png": "[encoded data removed]",
      "text/plain": [
       "<Figure size 640x480 with 1 Axes>"
      ]
     },
     "metadata": {},
     "output_type": "display_data"
    }
   ],
   "source": [
    "sns.distplot(y_pred, label='prediction')\n",
    "sns.distplot(y_train, label='actual')\n",
    "\n",
    "plt.legend()"
   ]
  },
  {
   "cell_type": "markdown",
   "id": "e58e6662",
   "metadata": {},
   "source": [
    "### VALIDATE MODEL"
   ]
  },
  {
   "cell_type": "code",
   "execution_count": 16,
   "id": "3b5f0763",
   "metadata": {},
   "outputs": [],
   "source": [
    "def read_dataframe(filename):\n",
    "    df = pd.read_parquet(filename)\n",
    "    df['duration'] = df.tpep_dropoff_datetime - df.tpep_pickup_datetime\n",
    "    df.duration = df.duration.apply(lambda td: td.total_seconds() / 60)\n",
    "    df = df[(df.duration >= 1) & (df.duration <= 60)]\n",
    "    categorical = ['PULocationID', 'DOLocationID']\n",
    "    df[categorical] = df[categorical].astype(str)\n",
    "    return df"
   ]
  },
  {
   "cell_type": "code",
   "execution_count": 17,
   "id": "bf2148ab",
   "metadata": {},
   "outputs": [],
   "source": [
    "# VALIDATION OF THE MODEL\n",
    "df_train = read_dataframe('../data/yellow_tripdata_2023-01.parquet')\n",
    "df_val = read_dataframe('../data/yellow_tripdata_2023-02.parquet')"
   ]
  },
  {
   "cell_type": "code",
   "execution_count": 18,
   "id": "a3d32867",
   "metadata": {},
   "outputs": [
    {
     "data": {
      "text/plain": [
       "(3009173, 2855951)"
      ]
     },
     "execution_count": 18,
     "metadata": {},
     "output_type": "execute_result"
    }
   ],
   "source": [
    "len(df_train), len(df_val)"
   ]
  },
  {
   "cell_type": "code",
   "execution_count": 19,
   "id": "a063bfb6",
   "metadata": {},
   "outputs": [],
   "source": [
    "categorical = ['PULocationID', 'DOLocationID']\n",
    "numerical = ['trip_distance']"
   ]
  },
  {
   "cell_type": "code",
   "execution_count": 20,
   "id": "50a70104",
   "metadata": {},
   "outputs": [],
   "source": [
    "dv = DictVectorizer()\n",
    "\n",
    "train_dicts = df_train[categorical + numerical].to_dict(orient='records')\n",
    "X_train = dv.fit_transform(train_dicts)\n",
    "\n",
    "val_dicts = df_val[categorical + numerical].to_dict(orient='records')\n",
    "X_val = dv.transform(val_dicts)"
   ]
  },
  {
   "cell_type": "code",
   "execution_count": 21,
   "id": "95f92dfc",
   "metadata": {},
   "outputs": [
    {
     "name": "stdout",
     "output_type": "stream",
     "text": [
      "<Compressed Sparse Row sparse matrix of dtype 'float64'\n",
      "\twith 3 stored elements and shape (1, 516)>\n",
      "  Coords\tValues\n",
      "  (0, 43)\t1.0\n",
      "  (0, 325)\t1.0\n",
      "  (0, 515)\t0.97\n",
      "<Compressed Sparse Row sparse matrix of dtype 'float64'\n",
      "\twith 3 stored elements and shape (1, 516)>\n",
      "  Coords\tValues\n",
      "  (0, 67)\t1.0\n",
      "  (0, 304)\t1.0\n",
      "  (0, 515)\t0.3\n"
     ]
    }
   ],
   "source": [
    "print(X_train[0])\n",
    "print(X_val[0])"
   ]
  },
  {
   "cell_type": "code",
   "execution_count": 22,
   "id": "acddb30c",
   "metadata": {},
   "outputs": [],
   "source": [
    "target = 'duration'\n",
    "y_train = df_train[target].values\n",
    "y_val = df_val[target].values"
   ]
  },
  {
   "cell_type": "markdown",
   "id": "01127321",
   "metadata": {},
   "source": [
    "#### Linear Regression"
   ]
  },
  {
   "cell_type": "code",
   "execution_count": 23,
   "id": "9701a166",
   "metadata": {},
   "outputs": [],
   "source": [
    "lr = LinearRegression()\n",
    "lr.fit(X_train, y_train)\n",
    "\n",
    "y_pred_val = lr.predict(X_val)\n",
    "y_pred_train = lr.predict(X_train)"
   ]
  },
  {
   "cell_type": "code",
   "execution_count": 24,
   "id": "d0e2e488",
   "metadata": {},
   "outputs": [
    {
     "name": "stdout",
     "output_type": "stream",
     "text": [
      "7.658396474418433\n",
      "7.820267421957621\n"
     ]
    }
   ],
   "source": [
    "print(root_mean_squared_error(y_train, y_pred_train))\n",
    "print(root_mean_squared_error(y_val, y_pred_val))"
   ]
  },
  {
   "cell_type": "code",
   "execution_count": 25,
   "id": "d04a487b",
   "metadata": {},
   "outputs": [
    {
     "data": {
      "text/plain": [
       "<matplotlib.legend.Legend at 0x1604ce6b4d0>"
      ]
     },
     "execution_count": 25,
     "metadata": {},
     "output_type": "execute_result"
    },
    {
     "data": {
      "image/png": "[encoded data removed]",
      "text/plain": [
       "<Figure size 640x480 with 1 Axes>"
      ]
     },
     "metadata": {},
     "output_type": "display_data"
    }
   ],
   "source": [
    "sns.histplot(y_pred_val, kde=True, stat=\"density\", label='prediction', color=\"C0\", alpha=0.6)\n",
    "sns.histplot(y_val,  kde=True, stat=\"density\", label='actual',     color=\"C1\", alpha=0.6)\n",
    "plt.legend()"
   ]
  },
  {
   "cell_type": "code",
   "execution_count": 26,
   "id": "3d1e6a55",
   "metadata": {},
   "outputs": [],
   "source": [
    "os.makedirs('models', exist_ok=True)\n",
    "with open('models/lin_reg.bin', 'wb') as f_out:\n",
    "    pickle.dump((dv, lr), f_out)"
   ]
  },
  {
   "cell_type": "markdown",
   "id": "160afc18",
   "metadata": {},
   "source": [
    "#### Lasso"
   ]
  },
  {
   "cell_type": "code",
   "execution_count": 27,
   "id": "dab62d98",
   "metadata": {},
   "outputs": [
    {
     "data": {
      "text/plain": [
       "8.750249485260136"
      ]
     },
     "execution_count": 27,
     "metadata": {},
     "output_type": "execute_result"
    }
   ],
   "source": [
    "lr = Lasso(0.1)\n",
    "lr.fit(X_train, y_train)\n",
    "\n",
    "y_pred = lr.predict(X_val)\n",
    "root_mean_squared_error(y_val, y_pred)"
   ]
  },
  {
   "cell_type": "code",
   "execution_count": null,
   "id": "d3bcf46e",
   "metadata": {},
   "outputs": [],
   "source": [
    "sns.histplot(y_pred, kde=True, stat=\"density\", label='prediction', color=\"C0\", alpha=0.6)\n",
    "sns.histplot(y_val,  kde=True, stat=\"density\", label='actual',     color=\"C1\", alpha=0.6)\n",
    "plt.legend()"
   ]
  },
  {
   "cell_type": "code",
   "execution_count": 28,
   "id": "1773006f",
   "metadata": {},
   "outputs": [],
   "source": [
    "os.makedirs('models', exist_ok=True)\n",
    "with open('models/lasso.bin', 'wb') as f_out:\n",
    "    pickle.dump((dv, lr), f_out)"
   ]
  },
  {
   "cell_type": "markdown",
   "id": "6413a060",
   "metadata": {},
   "source": [
    "#### Ridge"
   ]
  },
  {
   "cell_type": "code",
   "execution_count": 29,
   "id": "a65f55ab",
   "metadata": {},
   "outputs": [
    {
     "data": {
      "text/plain": [
       "7.812912381802727"
      ]
     },
     "execution_count": 29,
     "metadata": {},
     "output_type": "execute_result"
    }
   ],
   "source": [
    "rg = Ridge(alpha=0.1, solver='auto', random_state=1, max_iter=1000)\n",
    "rg.fit(X_train, y_train)\n",
    "\n",
    "y_pred_rg = rg.predict(X_val)\n",
    "root_mean_squared_error(y_val, y_pred_rg)"
   ]
  },
  {
   "cell_type": "code",
   "execution_count": null,
   "id": "0303f33d",
   "metadata": {},
   "outputs": [],
   "source": [
    "sns.histplot(y_pred, kde=True, stat=\"density\", label='prediction', color=\"C0\", alpha=0.6)\n",
    "sns.histplot(y_val,  kde=True, stat=\"density\", label='actual',     color=\"C1\", alpha=0.6)\n",
    "plt.legend()"
   ]
  },
  {
   "cell_type": "code",
   "execution_count": 30,
   "id": "4acec198",
   "metadata": {},
   "outputs": [],
   "source": [
    "os.makedirs('models', exist_ok=True)\n",
    "with open('models/ridge.bin', 'wb') as f_out:\n",
    "    pickle.dump((dv, rg), f_out)"
   ]
  },
  {
   "cell_type": "code",
   "execution_count": null,
   "id": "46c0a0b3",
   "metadata": {},
   "outputs": [],
   "source": []
  }
 ],
 "metadata": {
  "kernelspec": {
   "display_name": "mlops-zoomcamp",
   "language": "python",
   "name": "python3"
  },
  "language_info": {
   "codemirror_mode": {
    "name": "ipython",
    "version": 3
   },
   "file_extension": ".py",
   "mimetype": "text/x-python",
   "name": "python",
   "nbconvert_exporter": "python",
   "pygments_lexer": "ipython3",
   "version": "3.13.2"
  }
 },
 "nbformat": 4,
 "nbformat_minor": 5
}
